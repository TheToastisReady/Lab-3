{
 "cells": [
  {
   "cell_type": "code",
   "execution_count": 10,
   "metadata": {
    "collapsed": false
   },
   "outputs": [
    {
     "name": "stdout",
     "output_type": "stream",
     "text": [
      "Highest rate for being black: 0.00283 % DC\n"
     ]
    },
    {
     "data": {
      "image/png": "[encoded data removed]",
      "text/plain": [
       "<matplotlib.figure.Figure at 0x211211d7198>"
      ]
     },
     "metadata": {},
     "output_type": "display_data"
    }
   ],
   "source": [
    "import statistics as st\n",
    "import matplotlib.pyplot as plt\n",
    "import numpy as np\n",
    "import math\n",
    "import scipy.stats as ss\n",
    "% matplotlib inline\n",
    "POP = open(\"states.csv\", \"r\", errors=\"ignore\");\n",
    "PVC = open(\"PoliceViolence_city.csv\", \"r\", errors=\"ignore\");\n",
    "KBP = open(\"KilledByPolice.csv\", \"r\", errors=\"ignore\");\n",
    "\n",
    "\n",
    "cur = [];\n",
    "cur2 = [];\n",
    "cur3 = [];\n",
    "\n",
    "for aa in PVC:\n",
    "    cur.append(aa);\n",
    "for ab in KBP:\n",
    "    cur2.append(ab);\n",
    "for ac in POP:\n",
    "    cur3.append(ac);\n",
    "\n",
    "del cur2[0];\n",
    "del cur[0];\n",
    "\n",
    "for ba in range(len(cur)):\n",
    "    cur[ba] = cur[ba].split(\",\");\n",
    "for bb in range(len(cur2)):\n",
    "    cur2[bb] = cur2[bb].split(\",\");\n",
    "for bc in range(len(cur3)):\n",
    "    cur3[bc] = cur3[bc].split(\",\");\n",
    "\n",
    "\n",
    "#VCR = violent crime rate\n",
    "sacrob = {};\n",
    "sacroo = {};\n",
    "sacrot = {};\n",
    "spop = {};\n",
    "comp = [];\n",
    "\n",
    "for c in range(len(cur2)):\n",
    "    if cur2[c][7] not in sacrob and cur2[c][3] == \"Black\":\n",
    "        sacrob[cur2[c][7]] = 1;\n",
    "    elif cur2[c][7] in sacrob and cur2[c][3] == \"Black\":\n",
    "        sacrob[cur2[c][7]]+=1;\n",
    "    elif cur2[c][7] not in sacrob:\n",
    "        sacrob[cur2[c][7]] = 0;\n",
    "        \n",
    "for d in range(len(cur2)):\n",
    "    if cur2[d][7] not in sacroo and cur2[d][3] != \"Black\":\n",
    "        sacroo[cur2[d][7]] = 1;\n",
    "    elif cur2[d][7] in sacroo and cur2[d][3] != \"Black\":\n",
    "        sacroo[cur2[d][7]]+=1;\n",
    "    elif cur2[d][7] not in sacroo:\n",
    "        sacroo[cur2[d][7]] = 0;\n",
    "    \n",
    "for e in range(len(cur2)):\n",
    "    if cur2[e][7] not in sacrot:\n",
    "        sacrot[cur2[e][7]] = 1;\n",
    "    elif cur2[e][7] in sacrot:\n",
    "        sacrot[cur2[e][7]]+=1;\n",
    "\n",
    "colr = np.random.rand(3);\n",
    "\n",
    "for f in range(len(sacrob)):\n",
    "    y = sacrob[cur2[f][7]];\n",
    "    cy = y;\n",
    "    cny = y;\n",
    "    cny = math.fabs(1-(cny/150+0.1));\n",
    "    cy = cy/1000+0.1;\n",
    "    colr[1] = cny;\n",
    "    colr[2] = cy;\n",
    "    plt.scatter(f, y, color = colr);\n",
    "\n",
    "for g in range(len(sacroo)):\n",
    "    y = sacroo[cur2[g][7]];\n",
    "    cy = y;\n",
    "    cny = y;\n",
    "    cny = math.fabs(1-(cny/150+0.1));\n",
    "    tick = 0;\n",
    "    while cny > 1:\n",
    "        if tick < 10:\n",
    "            cny = (cny-1)*10;\n",
    "            #print(cny);\n",
    "            tick+=1;\n",
    "        else:\n",
    "            cny = cny%1;\n",
    "            #print(cny);\n",
    "    rny = 1-float(colr[1]);\n",
    "    cy = cy/1000+0.1;\n",
    "    #colr[0] = rny;\n",
    "    colr[1] = cny;\n",
    "    colr[2] = cy;\n",
    "\n",
    "#Following Code copied from http://code.activestate.com/recipes/578114-round-number-to-specified-number-of-significant-di/\n",
    "#Created by user Ben Hoyt\n",
    "def round_sigfigs(num, sig_figs):\n",
    "    if num != 0:\n",
    "        return round(num, -int(math.floor(math.log10(abs(num))) - (sig_figs - 1)))\n",
    "    else:\n",
    "        return 0  # Can't take the log of 0\n",
    "    \n",
    "for h in range(len(cur3)):\n",
    "    if cur3[h][1] not in spop:\n",
    "        spop[cur3[h][1]] = int(cur3[h][2]);\n",
    "for i in range(len(sacrob)):\n",
    "    name = str(cur3[i][1]);\n",
    "    killed = int(sacrob[name]);\n",
    "    tp = int(spop[name]);\n",
    "    #print(round_sigfigs(killed/tp*100, 3), \"  State:\", name, \"Index:\", i);\n",
    "    comp.append(round_sigfigs(killed/tp*100, 3));\n",
    "\n",
    "co1 = 0.0;\n",
    "co2 = 0.0;\n",
    "high = 0.0;\n",
    "name = \"\";\n",
    "for j in sacrob:\n",
    "    co1 = round_sigfigs(int(sacrob[j])/int(spop[j])*100, 3);\n",
    "    if co1 > high:\n",
    "        high = co1;\n",
    "        name = j;\n",
    "\n",
    "print(\"Highest rate for being black:\", high, \"%\", name);"
   ]
  },
  {
   "cell_type": "code",
   "execution_count": 7,
   "metadata": {
    "collapsed": false
   },
   "outputs": [
    {
     "name": "stdout",
     "output_type": "stream",
     "text": [
      "Highest rate: 0.00364 % NM\n"
     ]
    },
    {
     "data": {
      "image/png": "[encoded data removed]",
      "text/plain": [
       "<matplotlib.figure.Figure at 0x2112200c9b0>"
      ]
     },
     "metadata": {},
     "output_type": "display_data"
    }
   ],
   "source": [
    "for f in range(len(sacrot)):\n",
    "    y = sacrot[cur2[f][7]];\n",
    "    cy = y;\n",
    "    cny = y;\n",
    "    cny = math.fabs(1-(cny/1500+0.1));\n",
    "    cy = cy/1000+0.1;\n",
    "    colr[1] = cny;\n",
    "    colr[2] = cy;\n",
    "    plt.scatter(f, y, color = colr);\n",
    "\n",
    "for j in sacrot:\n",
    "    co1 = round_sigfigs(int(sacrot[j])/int(spop[j])*100, 3);\n",
    "    if co1 > high:\n",
    "        high = co1;\n",
    "        name = j;\n",
    "\n",
    "print(\"Highest rate:\", high, \"%\", name);"
   ]
  },
  {
   "cell_type": "markdown",
   "metadata": {},
   "source": [
    "According to the graphs above, the state you are most likely to be killed in if you are black is Washington DC, with a 0.00283% chance of being killed. However, the highest mortality rate at the hands of police regardless of race, is in New Mexico, with a 0.00364% chance of being killed."
   ]
  },
  {
   "cell_type": "code",
   "execution_count": null,
   "metadata": {
    "collapsed": true
   },
   "outputs": [],
   "source": []
  }
 ],
 "metadata": {
  "anaconda-cloud": {},
  "kernelspec": {
   "display_name": "Python [Root]",
   "language": "python",
   "name": "Python [Root]"
  },
  "language_info": {
   "codemirror_mode": {
    "name": "ipython",
    "version": 3
   },
   "file_extension": ".py",
   "mimetype": "text/x-python",
   "name": "python",
   "nbconvert_exporter": "python",
   "pygments_lexer": "ipython3",
   "version": "3.5.2"
  }
 },
 "nbformat": 4,
 "nbformat_minor": 0
}
